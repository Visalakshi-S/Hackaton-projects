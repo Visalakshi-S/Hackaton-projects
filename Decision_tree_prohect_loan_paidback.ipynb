{
  "nbformat": 4,
  "nbformat_minor": 0,
  "metadata": {
    "colab": {
      "name": "Decision_tree prohect_loan paidback.ipynb",
      "provenance": [],
      "collapsed_sections": []
    },
    "kernelspec": {
      "name": "python3",
      "display_name": "Python 3"
    }
  },
  "cells": [
    {
      "cell_type": "markdown",
      "metadata": {
        "id": "juFNet7v_JPU"
      },
      "source": [
        "For this project, we will be exploring the publicly available data from LendingClub.com. Lending Club connects people who need money (borrowers) with people who have money (investors). As an investor one would want to invest in people who showed a profile of having a high probability of paying the amount back.The data that we have is from 2007-2010.\r\n",
        "\r\n",
        "**Problem Statement**\r\n",
        "\r\n",
        "Using the Decision Tree model, classify whether or not the borrower paid back their loan in full.\r\n",
        "\r\n",
        "**About the dataset**\r\n",
        "\r\n",
        "*The data file train.csv contains the 7662 instances with the 15 features including the target feature.\r\n",
        "*The datafile test.csv contains the 1916instances with the 14 features excluding the target feature.\r\n",
        "Evaluation metrics\r\n",
        "For this particular dataset, we are using accuracy_score as the evaluation metric.\r\n",
        "\r\n",
        "Submissions will be evaluated based on accuracy_score as per the below threshold.\r\n",
        "\r\n",
        "**Evaluation metrics**\r\n",
        " \r\n",
        "Your accuracy_score score\tPoints earned for the Task\r\n",
        "* 0.83 <= accuracy_score\t100% of the available points\r\n",
        "* 0.81 <= accuracy_score < 0.83\t80% of the available points\r\n",
        "* 0.79 < accuracy_score < 0.81\t70% of the available points\r\n",
        "* accuracy_score <= 0.79\tNo points earned\r\n",
        "Why solve this project?\r\n",
        "After completing this project, you will have a better understanding of how to build a decision tree model.\r\n",
        "\r\n",
        "**In this project, you will apply the following concepts**.\r\n",
        "\r\n",
        "*  Train-test split\r\n",
        "*  Correlation between the features\r\n",
        "* Decision Tree Modeling\r\n",
        "* Evaluation Metrics"
      ]
    },
    {
      "cell_type": "code",
      "metadata": {
        "id": "7ICCvMKY_G-B"
      },
      "source": [
        "import pandas as pd\r\n",
        "import numpy as np\r\n",
        "import numpy as np\r\n",
        "import matplotlib.pyplot as plt\r\n",
        "from io import StringIO\r\n",
        "from sklearn.tree import export_graphviz\r\n",
        "from sklearn.model_selection import train_test_split\r\n",
        "from sklearn import tree\r\n",
        "from sklearn import metrics\r\n",
        "from IPython.display import Image\r\n",
        "import pydotplus\r\n",
        "train_path=\"/content/drive/MyDrive/Colab_Notebooks/dt_train.csv\"\r\n",
        "test_path=\"/content/drive/MyDrive/Colab_Notebooks/dt_test.csv\"\r\n",
        "df_train=pd.read_csv(train_path)"
      ],
      "execution_count": null,
      "outputs": []
    },
    {
      "cell_type": "code",
      "metadata": {
        "colab": {
          "base_uri": "https://localhost:8080/",
          "height": 217
        },
        "id": "yCaqsN_r8SF5",
        "outputId": "7f6bd0b6-5f5d-4724-80b4-804085a39437"
      },
      "source": [
        "df_train.head()"
      ],
      "execution_count": 4,
      "outputs": [
        {
          "output_type": "execute_result",
          "data": {
            "text/html": [
              "<div>\n",
              "<style scoped>\n",
              "    .dataframe tbody tr th:only-of-type {\n",
              "        vertical-align: middle;\n",
              "    }\n",
              "\n",
              "    .dataframe tbody tr th {\n",
              "        vertical-align: top;\n",
              "    }\n",
              "\n",
              "    .dataframe thead th {\n",
              "        text-align: right;\n",
              "    }\n",
              "</style>\n",
              "<table border=\"1\" class=\"dataframe\">\n",
              "  <thead>\n",
              "    <tr style=\"text-align: right;\">\n",
              "      <th></th>\n",
              "      <th>Id</th>\n",
              "      <th>customer.id</th>\n",
              "      <th>credit.policy</th>\n",
              "      <th>purpose</th>\n",
              "      <th>int.rate</th>\n",
              "      <th>installment</th>\n",
              "      <th>log.annual.inc</th>\n",
              "      <th>dti</th>\n",
              "      <th>fico</th>\n",
              "      <th>days.with.cr.line</th>\n",
              "      <th>revol.bal</th>\n",
              "      <th>revol.util</th>\n",
              "      <th>pub.rec</th>\n",
              "      <th>inq.last.6mths</th>\n",
              "      <th>delinq.2yrs</th>\n",
              "      <th>paid.back.loan</th>\n",
              "    </tr>\n",
              "  </thead>\n",
              "  <tbody>\n",
              "    <tr>\n",
              "      <th>0</th>\n",
              "      <td>6269</td>\n",
              "      <td>LA006270</td>\n",
              "      <td>Yes</td>\n",
              "      <td>debt_consolidation</td>\n",
              "      <td>12.53%</td>\n",
              "      <td>689.41</td>\n",
              "      <td>11.513725</td>\n",
              "      <td>14.45</td>\n",
              "      <td>722</td>\n",
              "      <td>4291.000000</td>\n",
              "      <td>13171</td>\n",
              "      <td>51.8</td>\n",
              "      <td>0</td>\n",
              "      <td>Less than 5</td>\n",
              "      <td>No</td>\n",
              "      <td>Yes</td>\n",
              "    </tr>\n",
              "    <tr>\n",
              "      <th>1</th>\n",
              "      <td>1460</td>\n",
              "      <td>LA001461</td>\n",
              "      <td>Yes</td>\n",
              "      <td>credit_card</td>\n",
              "      <td>10.20%</td>\n",
              "      <td>485.42</td>\n",
              "      <td>10.315597</td>\n",
              "      <td>12.87</td>\n",
              "      <td>752</td>\n",
              "      <td>5789.958333</td>\n",
              "      <td>14857</td>\n",
              "      <td>31.3</td>\n",
              "      <td>0</td>\n",
              "      <td>Less than 5</td>\n",
              "      <td>Yes</td>\n",
              "      <td>Yes</td>\n",
              "    </tr>\n",
              "    <tr>\n",
              "      <th>2</th>\n",
              "      <td>5539</td>\n",
              "      <td>LA005540</td>\n",
              "      <td>Yes</td>\n",
              "      <td>debt_consolidation</td>\n",
              "      <td>12.87%</td>\n",
              "      <td>121.08</td>\n",
              "      <td>11.238436</td>\n",
              "      <td>1.58</td>\n",
              "      <td>692</td>\n",
              "      <td>3391.000000</td>\n",
              "      <td>12135</td>\n",
              "      <td>85.5</td>\n",
              "      <td>0</td>\n",
              "      <td>Less than 5</td>\n",
              "      <td>No</td>\n",
              "      <td>Yes</td>\n",
              "    </tr>\n",
              "    <tr>\n",
              "      <th>3</th>\n",
              "      <td>9020</td>\n",
              "      <td>LA009021</td>\n",
              "      <td>No</td>\n",
              "      <td>all_other</td>\n",
              "      <td>15.37%</td>\n",
              "      <td>348.47</td>\n",
              "      <td>11.142007</td>\n",
              "      <td>11.01</td>\n",
              "      <td>687</td>\n",
              "      <td>5370.000000</td>\n",
              "      <td>10631</td>\n",
              "      <td>35.3</td>\n",
              "      <td>0</td>\n",
              "      <td>Less than 10</td>\n",
              "      <td>No</td>\n",
              "      <td>Yes</td>\n",
              "    </tr>\n",
              "    <tr>\n",
              "      <th>4</th>\n",
              "      <td>4365</td>\n",
              "      <td>LA004366</td>\n",
              "      <td>Yes</td>\n",
              "      <td>debt_consolidation</td>\n",
              "      <td>14.61%</td>\n",
              "      <td>344.76</td>\n",
              "      <td>10.308953</td>\n",
              "      <td>11.36</td>\n",
              "      <td>672</td>\n",
              "      <td>2429.958333</td>\n",
              "      <td>10544</td>\n",
              "      <td>57.0</td>\n",
              "      <td>0</td>\n",
              "      <td>Less than 5</td>\n",
              "      <td>Yes</td>\n",
              "      <td>Yes</td>\n",
              "    </tr>\n",
              "  </tbody>\n",
              "</table>\n",
              "</div>"
            ],
            "text/plain": [
              "     Id customer.id credit.policy  ... inq.last.6mths delinq.2yrs  paid.back.loan\n",
              "0  6269    LA006270           Yes  ...    Less than 5          No             Yes\n",
              "1  1460    LA001461           Yes  ...    Less than 5         Yes             Yes\n",
              "2  5539    LA005540           Yes  ...    Less than 5          No             Yes\n",
              "3  9020    LA009021            No  ...   Less than 10          No             Yes\n",
              "4  4365    LA004366           Yes  ...    Less than 5         Yes             Yes\n",
              "\n",
              "[5 rows x 16 columns]"
            ]
          },
          "metadata": {
            "tags": []
          },
          "execution_count": 4
        }
      ]
    },
    {
      "cell_type": "markdown",
      "metadata": {
        "id": "gRbs2ydj8etv"
      },
      "source": [
        "Checking the data types"
      ]
    },
    {
      "cell_type": "code",
      "metadata": {
        "colab": {
          "base_uri": "https://localhost:8080/"
        },
        "id": "5FsAzvDS8ShO",
        "outputId": "2bd52239-ecc1-4c94-dbe6-2b41196e8076"
      },
      "source": [
        "df_train.dtypes"
      ],
      "execution_count": 5,
      "outputs": [
        {
          "output_type": "execute_result",
          "data": {
            "text/plain": [
              "Id                     int64\n",
              "customer.id           object\n",
              "credit.policy         object\n",
              "purpose               object\n",
              "int.rate              object\n",
              "installment          float64\n",
              "log.annual.inc       float64\n",
              "dti                  float64\n",
              "fico                   int64\n",
              "days.with.cr.line    float64\n",
              "revol.bal              int64\n",
              "revol.util           float64\n",
              "pub.rec                int64\n",
              "inq.last.6mths        object\n",
              "delinq.2yrs           object\n",
              "paid.back.loan        object\n",
              "dtype: object"
            ]
          },
          "metadata": {
            "tags": []
          },
          "execution_count": 5
        }
      ]
    },
    {
      "cell_type": "markdown",
      "metadata": {
        "id": "VslFxnF68jJU"
      },
      "source": [
        "Dropping Id & Customer Id columsns in both train & test data"
      ]
    },
    {
      "cell_type": "code",
      "metadata": {
        "id": "lzX3FAi28hcG"
      },
      "source": [
        "df_train.drop([\"Id\",\"customer.id\"],axis=1,inplace=True)\r\n",
        "df_test.drop([\"Id\",\"customer.id\"],axis=1,inplace=True)"
      ],
      "execution_count": 6,
      "outputs": []
    },
    {
      "cell_type": "markdown",
      "metadata": {
        "id": "q3w5Vo-D8u2D"
      },
      "source": [
        "Changing the object variables to categorical variables in both train & test data"
      ]
    },
    {
      "cell_type": "code",
      "metadata": {
        "id": "XMDlP7mO8sYn"
      },
      "source": [
        "df_train[\"credit.policy\"]=df_train[\"credit.policy\"].astype('category').cat.codes\r\n",
        "df_train[\"purpose\"]=df_train[\"purpose\"].astype('category').cat.codes\r\n",
        "df_train['inq.last.6mths']=df_train['inq.last.6mths'].astype('category').cat.codes\r\n",
        "df_train['delinq.2yrs']=df_train['delinq.2yrs'].astype('category').cat.codes\r\n",
        "df_train['paid.back.loan']=df_train['paid.back.loan'].astype('category').cat.codes"
      ],
      "execution_count": 7,
      "outputs": []
    },
    {
      "cell_type": "code",
      "metadata": {
        "id": "_Wakld4G80bK"
      },
      "source": [
        "df_test[\"credit.policy\"]=df_test[\"credit.policy\"].astype('category').cat.codes\r\n",
        "df_test[\"purpose\"]=df_test[\"purpose\"].astype('category').cat.codes\r\n",
        "df_test['inq.last.6mths']=df_test['inq.last.6mths'].astype('category').cat.codes\r\n",
        "df_test['delinq.2yrs']=df_test['delinq.2yrs'].astype('category').cat.codes"
      ],
      "execution_count": 9,
      "outputs": []
    },
    {
      "cell_type": "code",
      "metadata": {
        "colab": {
          "base_uri": "https://localhost:8080/",
          "height": 217
        },
        "id": "MHK1RssV86Bk",
        "outputId": "6b86ff9d-ccc8-4f51-c454-121bff5417a8"
      },
      "source": [
        "df_train.head()"
      ],
      "execution_count": 8,
      "outputs": [
        {
          "output_type": "execute_result",
          "data": {
            "text/html": [
              "<div>\n",
              "<style scoped>\n",
              "    .dataframe tbody tr th:only-of-type {\n",
              "        vertical-align: middle;\n",
              "    }\n",
              "\n",
              "    .dataframe tbody tr th {\n",
              "        vertical-align: top;\n",
              "    }\n",
              "\n",
              "    .dataframe thead th {\n",
              "        text-align: right;\n",
              "    }\n",
              "</style>\n",
              "<table border=\"1\" class=\"dataframe\">\n",
              "  <thead>\n",
              "    <tr style=\"text-align: right;\">\n",
              "      <th></th>\n",
              "      <th>credit.policy</th>\n",
              "      <th>purpose</th>\n",
              "      <th>int.rate</th>\n",
              "      <th>installment</th>\n",
              "      <th>log.annual.inc</th>\n",
              "      <th>dti</th>\n",
              "      <th>fico</th>\n",
              "      <th>days.with.cr.line</th>\n",
              "      <th>revol.bal</th>\n",
              "      <th>revol.util</th>\n",
              "      <th>pub.rec</th>\n",
              "      <th>inq.last.6mths</th>\n",
              "      <th>delinq.2yrs</th>\n",
              "      <th>paid.back.loan</th>\n",
              "    </tr>\n",
              "  </thead>\n",
              "  <tbody>\n",
              "    <tr>\n",
              "      <th>0</th>\n",
              "      <td>1</td>\n",
              "      <td>2</td>\n",
              "      <td>12.53%</td>\n",
              "      <td>689.41</td>\n",
              "      <td>11.513725</td>\n",
              "      <td>14.45</td>\n",
              "      <td>722</td>\n",
              "      <td>4291.000000</td>\n",
              "      <td>13171</td>\n",
              "      <td>51.8</td>\n",
              "      <td>0</td>\n",
              "      <td>3</td>\n",
              "      <td>0</td>\n",
              "      <td>1</td>\n",
              "    </tr>\n",
              "    <tr>\n",
              "      <th>1</th>\n",
              "      <td>1</td>\n",
              "      <td>1</td>\n",
              "      <td>10.20%</td>\n",
              "      <td>485.42</td>\n",
              "      <td>10.315597</td>\n",
              "      <td>12.87</td>\n",
              "      <td>752</td>\n",
              "      <td>5789.958333</td>\n",
              "      <td>14857</td>\n",
              "      <td>31.3</td>\n",
              "      <td>0</td>\n",
              "      <td>3</td>\n",
              "      <td>1</td>\n",
              "      <td>1</td>\n",
              "    </tr>\n",
              "    <tr>\n",
              "      <th>2</th>\n",
              "      <td>1</td>\n",
              "      <td>2</td>\n",
              "      <td>12.87%</td>\n",
              "      <td>121.08</td>\n",
              "      <td>11.238436</td>\n",
              "      <td>1.58</td>\n",
              "      <td>692</td>\n",
              "      <td>3391.000000</td>\n",
              "      <td>12135</td>\n",
              "      <td>85.5</td>\n",
              "      <td>0</td>\n",
              "      <td>3</td>\n",
              "      <td>0</td>\n",
              "      <td>1</td>\n",
              "    </tr>\n",
              "    <tr>\n",
              "      <th>3</th>\n",
              "      <td>0</td>\n",
              "      <td>0</td>\n",
              "      <td>15.37%</td>\n",
              "      <td>348.47</td>\n",
              "      <td>11.142007</td>\n",
              "      <td>11.01</td>\n",
              "      <td>687</td>\n",
              "      <td>5370.000000</td>\n",
              "      <td>10631</td>\n",
              "      <td>35.3</td>\n",
              "      <td>0</td>\n",
              "      <td>0</td>\n",
              "      <td>0</td>\n",
              "      <td>1</td>\n",
              "    </tr>\n",
              "    <tr>\n",
              "      <th>4</th>\n",
              "      <td>1</td>\n",
              "      <td>2</td>\n",
              "      <td>14.61%</td>\n",
              "      <td>344.76</td>\n",
              "      <td>10.308953</td>\n",
              "      <td>11.36</td>\n",
              "      <td>672</td>\n",
              "      <td>2429.958333</td>\n",
              "      <td>10544</td>\n",
              "      <td>57.0</td>\n",
              "      <td>0</td>\n",
              "      <td>3</td>\n",
              "      <td>1</td>\n",
              "      <td>1</td>\n",
              "    </tr>\n",
              "  </tbody>\n",
              "</table>\n",
              "</div>"
            ],
            "text/plain": [
              "   credit.policy  purpose int.rate  ...  inq.last.6mths  delinq.2yrs  paid.back.loan\n",
              "0              1        2   12.53%  ...               3            0               1\n",
              "1              1        1   10.20%  ...               3            1               1\n",
              "2              1        2   12.87%  ...               3            0               1\n",
              "3              0        0   15.37%  ...               0            0               1\n",
              "4              1        2   14.61%  ...               3            1               1\n",
              "\n",
              "[5 rows x 14 columns]"
            ]
          },
          "metadata": {
            "tags": []
          },
          "execution_count": 8
        }
      ]
    },
    {
      "cell_type": "markdown",
      "metadata": {
        "id": "ri2sXGIR888z"
      },
      "source": [
        "Removing the percentage from int rate in both train & test data"
      ]
    },
    {
      "cell_type": "code",
      "metadata": {
        "id": "mGso28xG88JU"
      },
      "source": [
        "df_train[\"int.rate\"]=df_train[\"int.rate\"].str.rstrip('%').astype('float')\r\n",
        "df_train['int.rate']=round(df_train['int.rate']/100,2)\r\n",
        "df_test[\"int.rate\"]=df_test[\"int.rate\"].str.rstrip('%').astype('float')\r\n",
        "df_test['int.rate']=round(df_test['int.rate']/100,2)"
      ],
      "execution_count": 10,
      "outputs": []
    },
    {
      "cell_type": "code",
      "metadata": {
        "colab": {
          "base_uri": "https://localhost:8080/",
          "height": 217
        },
        "id": "COXuASju86dm",
        "outputId": "8e18514c-5008-4c3c-dc7f-598ce2b59790"
      },
      "source": [
        "df_train.head()"
      ],
      "execution_count": 11,
      "outputs": [
        {
          "output_type": "execute_result",
          "data": {
            "text/html": [
              "<div>\n",
              "<style scoped>\n",
              "    .dataframe tbody tr th:only-of-type {\n",
              "        vertical-align: middle;\n",
              "    }\n",
              "\n",
              "    .dataframe tbody tr th {\n",
              "        vertical-align: top;\n",
              "    }\n",
              "\n",
              "    .dataframe thead th {\n",
              "        text-align: right;\n",
              "    }\n",
              "</style>\n",
              "<table border=\"1\" class=\"dataframe\">\n",
              "  <thead>\n",
              "    <tr style=\"text-align: right;\">\n",
              "      <th></th>\n",
              "      <th>credit.policy</th>\n",
              "      <th>purpose</th>\n",
              "      <th>int.rate</th>\n",
              "      <th>installment</th>\n",
              "      <th>log.annual.inc</th>\n",
              "      <th>dti</th>\n",
              "      <th>fico</th>\n",
              "      <th>days.with.cr.line</th>\n",
              "      <th>revol.bal</th>\n",
              "      <th>revol.util</th>\n",
              "      <th>pub.rec</th>\n",
              "      <th>inq.last.6mths</th>\n",
              "      <th>delinq.2yrs</th>\n",
              "      <th>paid.back.loan</th>\n",
              "    </tr>\n",
              "  </thead>\n",
              "  <tbody>\n",
              "    <tr>\n",
              "      <th>0</th>\n",
              "      <td>1</td>\n",
              "      <td>2</td>\n",
              "      <td>0.13</td>\n",
              "      <td>689.41</td>\n",
              "      <td>11.513725</td>\n",
              "      <td>14.45</td>\n",
              "      <td>722</td>\n",
              "      <td>4291.000000</td>\n",
              "      <td>13171</td>\n",
              "      <td>51.8</td>\n",
              "      <td>0</td>\n",
              "      <td>3</td>\n",
              "      <td>0</td>\n",
              "      <td>1</td>\n",
              "    </tr>\n",
              "    <tr>\n",
              "      <th>1</th>\n",
              "      <td>1</td>\n",
              "      <td>1</td>\n",
              "      <td>0.10</td>\n",
              "      <td>485.42</td>\n",
              "      <td>10.315597</td>\n",
              "      <td>12.87</td>\n",
              "      <td>752</td>\n",
              "      <td>5789.958333</td>\n",
              "      <td>14857</td>\n",
              "      <td>31.3</td>\n",
              "      <td>0</td>\n",
              "      <td>3</td>\n",
              "      <td>1</td>\n",
              "      <td>1</td>\n",
              "    </tr>\n",
              "    <tr>\n",
              "      <th>2</th>\n",
              "      <td>1</td>\n",
              "      <td>2</td>\n",
              "      <td>0.13</td>\n",
              "      <td>121.08</td>\n",
              "      <td>11.238436</td>\n",
              "      <td>1.58</td>\n",
              "      <td>692</td>\n",
              "      <td>3391.000000</td>\n",
              "      <td>12135</td>\n",
              "      <td>85.5</td>\n",
              "      <td>0</td>\n",
              "      <td>3</td>\n",
              "      <td>0</td>\n",
              "      <td>1</td>\n",
              "    </tr>\n",
              "    <tr>\n",
              "      <th>3</th>\n",
              "      <td>0</td>\n",
              "      <td>0</td>\n",
              "      <td>0.15</td>\n",
              "      <td>348.47</td>\n",
              "      <td>11.142007</td>\n",
              "      <td>11.01</td>\n",
              "      <td>687</td>\n",
              "      <td>5370.000000</td>\n",
              "      <td>10631</td>\n",
              "      <td>35.3</td>\n",
              "      <td>0</td>\n",
              "      <td>0</td>\n",
              "      <td>0</td>\n",
              "      <td>1</td>\n",
              "    </tr>\n",
              "    <tr>\n",
              "      <th>4</th>\n",
              "      <td>1</td>\n",
              "      <td>2</td>\n",
              "      <td>0.15</td>\n",
              "      <td>344.76</td>\n",
              "      <td>10.308953</td>\n",
              "      <td>11.36</td>\n",
              "      <td>672</td>\n",
              "      <td>2429.958333</td>\n",
              "      <td>10544</td>\n",
              "      <td>57.0</td>\n",
              "      <td>0</td>\n",
              "      <td>3</td>\n",
              "      <td>1</td>\n",
              "      <td>1</td>\n",
              "    </tr>\n",
              "  </tbody>\n",
              "</table>\n",
              "</div>"
            ],
            "text/plain": [
              "   credit.policy  purpose  ...  delinq.2yrs  paid.back.loan\n",
              "0              1        2  ...            0               1\n",
              "1              1        1  ...            1               1\n",
              "2              1        2  ...            0               1\n",
              "3              0        0  ...            0               1\n",
              "4              1        2  ...            1               1\n",
              "\n",
              "[5 rows x 14 columns]"
            ]
          },
          "metadata": {
            "tags": []
          },
          "execution_count": 11
        }
      ]
    },
    {
      "cell_type": "markdown",
      "metadata": {
        "id": "gdWWl38s9LTA"
      },
      "source": [
        "Splitting into train & test data"
      ]
    },
    {
      "cell_type": "code",
      "metadata": {
        "colab": {
          "base_uri": "https://localhost:8080/"
        },
        "id": "1DfRvywH9JhP",
        "outputId": "cfa7c59a-bff2-4acc-fa92-4e3a81f51066"
      },
      "source": [
        "X=df_train.iloc[:,:13]\r\n",
        "y=df_train.iloc[:,-1]\r\n",
        "X_train, X_test, y_train, y_test = train_test_split(X, y, test_size=0.3)\r\n",
        "print(y_test)"
      ],
      "execution_count": 12,
      "outputs": [
        {
          "output_type": "stream",
          "text": [
            "6223    1\n",
            "3773    1\n",
            "628     1\n",
            "7224    1\n",
            "6857    1\n",
            "       ..\n",
            "4462    1\n",
            "2160    1\n",
            "7239    1\n",
            "3025    1\n",
            "4180    1\n",
            "Name: paid.back.loan, Length: 2299, dtype: int8\n"
          ],
          "name": "stdout"
        }
      ]
    },
    {
      "cell_type": "markdown",
      "metadata": {
        "id": "ZPfQuuZB9RbE"
      },
      "source": [
        "Using the Sklearn decision tree with criterion as entropy with max depth 2 & checking the accuracy score"
      ]
    },
    {
      "cell_type": "code",
      "metadata": {
        "colab": {
          "base_uri": "https://localhost:8080/"
        },
        "id": "OQ6aay1_9PJ2",
        "outputId": "81e2ad12-b8e8-4c23-f9f8-b205d4ff9419"
      },
      "source": [
        "from sklearn.metrics import accuracy_score\r\n",
        "dt2 = tree.DecisionTreeClassifier(criterion='entropy', max_depth=2)\r\n",
        "dt2.fit(X_train, y_train)\r\n",
        "y_pred = dt2.predict(X_test)\r\n",
        "full_accuracy_score = accuracy_score(y_test, y_pred)\r\n",
        "print(full_accuracy_score)"
      ],
      "execution_count": 13,
      "outputs": [
        {
          "output_type": "stream",
          "text": [
            "0.8421052631578947\n"
          ],
          "name": "stdout"
        }
      ]
    },
    {
      "cell_type": "markdown",
      "metadata": {
        "id": "DLbHixJP9fqN"
      },
      "source": [
        "Using the Sklearn decision tree with criterion as entropy with max depth 3 & checking the accuracy score"
      ]
    },
    {
      "cell_type": "code",
      "metadata": {
        "colab": {
          "base_uri": "https://localhost:8080/"
        },
        "id": "NjKFzye29djX",
        "outputId": "9fe7a445-c673-42ce-951a-b4f7cdf4151f"
      },
      "source": [
        "from sklearn.metrics import accuracy_score\r\n",
        "dt3 = tree.DecisionTreeClassifier(criterion='entropy', max_depth=3)\r\n",
        "dt3.fit(X_train, y_train)\r\n",
        "y_pred = dt3.predict(X_test)\r\n",
        "max3_accuracy_score = accuracy_score(y_test, y_pred)\r\n",
        "print(max3_accuracy_score)"
      ],
      "execution_count": 14,
      "outputs": [
        {
          "output_type": "stream",
          "text": [
            "0.8421052631578947\n"
          ],
          "name": "stdout"
        }
      ]
    },
    {
      "cell_type": "markdown",
      "metadata": {
        "id": "GtiNF2ij9phR"
      },
      "source": [
        "Using the Sklearn decision tree with criterion as entropy & checking the accuracy score"
      ]
    },
    {
      "cell_type": "code",
      "metadata": {
        "colab": {
          "base_uri": "https://localhost:8080/"
        },
        "id": "WlCssVL79ltm",
        "outputId": "8ed0c766-3cbd-4893-e66a-46c3e478d4ac"
      },
      "source": [
        "from sklearn.metrics import accuracy_score\r\n",
        "dt3 = tree.DecisionTreeClassifier(criterion='entropy')\r\n",
        "dt3.fit(X_train, y_train)\r\n",
        "y_pred = dt3.predict(X_test)\r\n",
        "max3_accuracy_score = accuracy_score(y_test, y_pred)\r\n",
        "print(max3_accuracy_score)\r\n"
      ],
      "execution_count": 15,
      "outputs": [
        {
          "output_type": "stream",
          "text": [
            "0.742061765985211\n"
          ],
          "name": "stdout"
        }
      ]
    },
    {
      "cell_type": "markdown",
      "metadata": {
        "id": "RgyoI2xJ-N1o"
      },
      "source": [
        "Using the Sklearn decision tree with criterion as entropy & using minimum sample leaves.\r\n"
      ]
    },
    {
      "cell_type": "code",
      "metadata": {
        "colab": {
          "base_uri": "https://localhost:8080/"
        },
        "id": "MlWiIXQK-I13",
        "outputId": "7f4bc21a-7a46-433a-8578-268733a2a944"
      },
      "source": [
        "dt_msl1 =tree.DecisionTreeClassifier(criterion='entropy',min_samples_leaf=100)\r\n",
        "dt_msl1.fit(X_train, y_train)\r\n",
        "y_pred = dt_msl1.predict(X_test)\r\n",
        "dt_msl_score=round(dt_msl1.score(X_train, y_train),2)\r\n",
        "\r\n",
        "print(dt_msl_score)"
      ],
      "execution_count": 17,
      "outputs": [
        {
          "output_type": "stream",
          "text": [
            "0.84\n"
          ],
          "name": "stdout"
        }
      ]
    },
    {
      "cell_type": "markdown",
      "metadata": {
        "id": "AcUU6eXy-feB"
      },
      "source": [
        "Using the Sklearn decision tree with criterion as entropy with max depth as 7"
      ]
    },
    {
      "cell_type": "code",
      "metadata": {
        "colab": {
          "base_uri": "https://localhost:8080/"
        },
        "id": "ORxaZlDX-LMB",
        "outputId": "a2b8b856-3adf-4a86-d176-f6dcffa3e6cd"
      },
      "source": [
        "from sklearn.metrics import accuracy_score\r\n",
        "dt5 = tree.DecisionTreeClassifier(criterion='entropy', max_depth=7)\r\n",
        "dt5.fit(X_train, y_train)\r\n",
        "y_pred = dt5.predict(X_test)\r\n",
        "full_accuracy_score = accuracy_score(y_test, y_pred)\r\n",
        "print(full_accuracy_score)"
      ],
      "execution_count": 18,
      "outputs": [
        {
          "output_type": "stream",
          "text": [
            "0.8338408003479774\n"
          ],
          "name": "stdout"
        }
      ]
    },
    {
      "cell_type": "markdown",
      "metadata": {
        "id": "K6hMGAcv-loY"
      },
      "source": [
        "Since the acuracy score falls with the given slab brackets, we take the decision tree classifier with max dept as 7 & predict the test data"
      ]
    },
    {
      "cell_type": "code",
      "metadata": {
        "id": "F9CAEWg0-b_I"
      },
      "source": [
        "y_pred_test = dt5.predict(df_test)\r\n",
        "print(y_pred_test)\r\n",
        "submissions_f = pd.DataFrame(y_pred_test,columns = ['paid.back.loan'])\r\n",
        "submissions_f.to_csv('/content/drive/MyDrive/Colab Notebooks/dt_sample_submission.csv')"
      ],
      "execution_count": 20,
      "outputs": []
    },
    {
      "cell_type": "code",
      "metadata": {
        "id": "_eXYDBXp-15G"
      },
      "source": [
        ""
      ],
      "execution_count": null,
      "outputs": []
    }
  ]
}